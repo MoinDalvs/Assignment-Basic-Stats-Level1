{
 "cells": [
  {
   "cell_type": "code",
   "execution_count": 1,
   "id": "c6dd1b05",
   "metadata": {},
   "outputs": [],
   "source": [
    "import pandas as pd\n",
    "import numpy as np\n",
    "import matplotlib.pyplot as plt\n",
    "import scipy.stats as stats\n",
    "import seaborn as sns\n",
    "import statsmodels.api as smf"
   ]
  },
  {
   "cell_type": "markdown",
   "id": "0365e463",
   "metadata": {},
   "source": [
    "# SET 1 "
   ]
  },
  {
   "cell_type": "markdown",
   "id": "a6271be3",
   "metadata": {},
   "source": [
    "### Question 1"
   ]
  },
  {
   "cell_type": "code",
   "execution_count": 4,
   "id": "477a7e42",
   "metadata": {},
   "outputs": [
    {
     "data": {
      "text/html": [
       "<div>\n",
       "<style scoped>\n",
       "    .dataframe tbody tr th:only-of-type {\n",
       "        vertical-align: middle;\n",
       "    }\n",
       "\n",
       "    .dataframe tbody tr th {\n",
       "        vertical-align: top;\n",
       "    }\n",
       "\n",
       "    .dataframe thead th {\n",
       "        text-align: right;\n",
       "    }\n",
       "</style>\n",
       "<table border=\"1\" class=\"dataframe\">\n",
       "  <thead>\n",
       "    <tr style=\"text-align: right;\">\n",
       "      <th></th>\n",
       "      <th>Measure X</th>\n",
       "    </tr>\n",
       "    <tr>\n",
       "      <th>Name of company</th>\n",
       "      <th></th>\n",
       "    </tr>\n",
       "  </thead>\n",
       "  <tbody>\n",
       "    <tr>\n",
       "      <th>Allied Signal</th>\n",
       "      <td>24.23%</td>\n",
       "    </tr>\n",
       "    <tr>\n",
       "      <th>Bankers Trust</th>\n",
       "      <td>25.53%</td>\n",
       "    </tr>\n",
       "    <tr>\n",
       "      <th>General Mills</th>\n",
       "      <td>25.41%</td>\n",
       "    </tr>\n",
       "    <tr>\n",
       "      <th>ITT Industries</th>\n",
       "      <td>24.14%</td>\n",
       "    </tr>\n",
       "    <tr>\n",
       "      <th>J.P.Morgan &amp; Co.</th>\n",
       "      <td>29.62%</td>\n",
       "    </tr>\n",
       "    <tr>\n",
       "      <th>Lehman Brothers</th>\n",
       "      <td>28.25%</td>\n",
       "    </tr>\n",
       "    <tr>\n",
       "      <th>Marriott</th>\n",
       "      <td>25.81%</td>\n",
       "    </tr>\n",
       "    <tr>\n",
       "      <th>MCI</th>\n",
       "      <td>24.39%</td>\n",
       "    </tr>\n",
       "    <tr>\n",
       "      <th>Merrill Lynch</th>\n",
       "      <td>40.26%</td>\n",
       "    </tr>\n",
       "    <tr>\n",
       "      <th>Microsoft</th>\n",
       "      <td>32.95%</td>\n",
       "    </tr>\n",
       "    <tr>\n",
       "      <th>Morgan Stanley</th>\n",
       "      <td>91.36%</td>\n",
       "    </tr>\n",
       "    <tr>\n",
       "      <th>Sun Microsystems</th>\n",
       "      <td>25.99%</td>\n",
       "    </tr>\n",
       "    <tr>\n",
       "      <th>Travelers</th>\n",
       "      <td>39.42%</td>\n",
       "    </tr>\n",
       "    <tr>\n",
       "      <th>US Airways</th>\n",
       "      <td>26.71%</td>\n",
       "    </tr>\n",
       "    <tr>\n",
       "      <th>Warner-Lambert</th>\n",
       "      <td>35.00%</td>\n",
       "    </tr>\n",
       "  </tbody>\n",
       "</table>\n",
       "</div>"
      ],
      "text/plain": [
       "                 Measure X\n",
       "Name of company           \n",
       "Allied Signal       24.23%\n",
       "Bankers Trust       25.53%\n",
       "General Mills       25.41%\n",
       "ITT Industries      24.14%\n",
       "J.P.Morgan & Co.    29.62%\n",
       "Lehman Brothers     28.25%\n",
       "Marriott            25.81%\n",
       "MCI                 24.39%\n",
       "Merrill Lynch       40.26%\n",
       "Microsoft           32.95%\n",
       "Morgan Stanley      91.36%\n",
       "Sun Microsystems    25.99%\n",
       "Travelers           39.42%\n",
       "US Airways          26.71%\n",
       "Warner-Lambert      35.00%"
      ]
     },
     "execution_count": 4,
     "metadata": {},
     "output_type": "execute_result"
    }
   ],
   "source": [
    "q1 = pd.read_clipboard(index_col = 0)\n",
    "q1"
   ]
  },
  {
   "cell_type": "code",
   "execution_count": 15,
   "id": "b57e57a9",
   "metadata": {},
   "outputs": [
    {
     "data": {
      "text/plain": [
       "0     24.23%\n",
       "1     25.53%\n",
       "2     25.41%\n",
       "3     24.14%\n",
       "4     29.62%\n",
       "5     28.25%\n",
       "6     25.81%\n",
       "7     24.39%\n",
       "8     40.26%\n",
       "9     32.95%\n",
       "10    91.36%\n",
       "11    25.99%\n",
       "12    39.42%\n",
       "13    26.71%\n",
       "14    35.00%\n",
       "Name: Measure X, dtype: object"
      ]
     },
     "execution_count": 15,
     "metadata": {},
     "output_type": "execute_result"
    }
   ],
   "source": [
    "x = pd.read_clipboard(usecols = ['Measure X'], squeeze  = True)\n",
    "x"
   ]
  },
  {
   "cell_type": "code",
   "execution_count": 2,
   "id": "a0fe7467",
   "metadata": {},
   "outputs": [
    {
     "data": {
      "text/plain": [
       "[24.23,\n",
       " 25.53,\n",
       " 25.41,\n",
       " 24.14,\n",
       " 29.62,\n",
       " 28.25,\n",
       " 25.81,\n",
       " 24.39,\n",
       " 40.26,\n",
       " 32.95,\n",
       " 91.36,\n",
       " 25.99,\n",
       " 39.42,\n",
       " 26.71,\n",
       " 35.0]"
      ]
     },
     "execution_count": 2,
     "metadata": {},
     "output_type": "execute_result"
    }
   ],
   "source": [
    "measure_x = [24.23,25.53,25.41,24.14,29.62,28.25,25.81,24.39,40.26,32.95,91.36,25.99,39.42,26.71,35.00]\n",
    "measure_x"
   ]
  },
  {
   "cell_type": "code",
   "execution_count": 3,
   "id": "de5f929c",
   "metadata": {},
   "outputs": [
    {
     "data": {
      "text/plain": [
       "['Allied Signal',\n",
       " 'Bankers Trust',\n",
       " 'General Mills',\n",
       " 'ITT Industries',\n",
       " 'J.P.Morgan & Co.',\n",
       " 'Lehman Brothers',\n",
       " 'Marriott',\n",
       " 'MCI',\n",
       " 'Merrill Lynch',\n",
       " 'Microsoft',\n",
       " 'Morgan Stanley',\n",
       " 'Sun Microsystems',\n",
       " 'Travelers',\n",
       " 'US Airways',\n",
       " 'Warner-Lambert']"
      ]
     },
     "execution_count": 3,
     "metadata": {},
     "output_type": "execute_result"
    }
   ],
   "source": [
    "name_of_company = ['Allied Signal','Bankers Trust','General Mills','ITT Industries','J.P.Morgan & Co.','Lehman Brothers',\n",
    "      'Marriott','MCI','Merrill Lynch','Microsoft','Morgan Stanley','Sun Microsystems','Travelers','US Airways',\n",
    "      'Warner-Lambert']\n",
    "name_of_company"
   ]
  },
  {
   "cell_type": "code",
   "execution_count": 6,
   "id": "41d7bc96",
   "metadata": {
    "scrolled": false
   },
   "outputs": [
    {
     "data": {
      "image/png": "[encoded data removed]",
      "text/plain": [
       "<Figure size 576x576 with 1 Axes>"
      ]
     },
     "metadata": {},
     "output_type": "display_data"
    }
   ],
   "source": [
    "plt.figure(figsize = (8,8))\n",
    "plt.pie(measure_x, labels = name_of_company, autopct= '%.2f%%',shadow = True,\n",
    "        explode = [0.0,0.0,0.0,0.0,0.0,0.0,0.0,0.0,0.0,0.0,0.1,0.0,0.0,0.0,0.0],\n",
    "        textprops = {'size':'medium',\n",
    "                   'fontweight':'bold',\n",
    "                   'color':'black'})\n",
    "plt.title('Name of Companies with respect to X', fontsize = 18, fontweight = 'bold', color='b')\n",
    "plt.savefig('Question1piechart.png')\n",
    "plt.show()"
   ]
  },
  {
   "cell_type": "code",
   "execution_count": 5,
   "id": "7cf5fbb2",
   "metadata": {
    "scrolled": true
   },
   "outputs": [
    {
     "name": "stderr",
     "output_type": "stream",
     "text": [
      "C:\\Users\\Moin Dalvi\\anaconda3\\lib\\site-packages\\seaborn\\_decorators.py:36: FutureWarning: Pass the following variable as a keyword arg: x. From version 0.12, the only valid positional argument will be `data`, and passing other arguments without an explicit keyword will result in an error or misinterpretation.\n",
      "  warnings.warn(\n"
     ]
    },
    {
     "data": {
      "image/png": "[encoded data removed]",
      "text/plain": [
       "<Figure size 432x288 with 1 Axes>"
      ]
     },
     "metadata": {
      "needs_background": "light"
     },
     "output_type": "display_data"
    }
   ],
   "source": [
    "sns.boxplot(measure_x)\n",
    "plt.savefig('question1boxplot.png')\n",
    "plt.show()"
   ]
  },
  {
   "cell_type": "code",
   "execution_count": 13,
   "id": "70c8819d",
   "metadata": {},
   "outputs": [],
   "source": [
    "measure_x=pd.Series(measure_x)"
   ]
  },
  {
   "cell_type": "code",
   "execution_count": 14,
   "id": "9ee86d08",
   "metadata": {},
   "outputs": [
    {
     "data": {
      "text/plain": [
       "count    15.000000\n",
       "mean     33.271333\n",
       "std      16.945401\n",
       "min      24.140000\n",
       "25%      25.470000\n",
       "50%      26.710000\n",
       "75%      33.975000\n",
       "max      91.360000\n",
       "dtype: float64"
      ]
     },
     "execution_count": 14,
     "metadata": {},
     "output_type": "execute_result"
    }
   ],
   "source": [
    "measure_x.describe()"
   ]
  },
  {
   "cell_type": "code",
   "execution_count": 15,
   "id": "6d8eeb3d",
   "metadata": {},
   "outputs": [
    {
     "name": "stdout",
     "output_type": "stream",
     "text": [
      "First Quartile= 25.47 Second Quartile= 26.71 Third Quartile= 33.975 Inter-Quartile Range= 8.505000000000003 Upper Whisker= 46.7325 Lower Whisker= 12.712499999999995\n"
     ]
    }
   ],
   "source": [
    "Q1 = np.quantile(measure_x,0.25)\n",
    "Q3 = np.quantile(measure_x,0.75)\n",
    "med = np.median(measure_x)\n",
    "IQR = Q3 - Q1\n",
    "upper_bound = Q3+(1.5*IQR)\n",
    "lower_bound = Q1-(1.5*IQR)\n",
    "print('First Quartile=', Q1, 'Second Quartile=', med, 'Third Quartile=', Q3,\n",
    "      'Inter-Quartile Range=', IQR, 'Upper Whisker=', upper_bound, 'Lower Whisker=', lower_bound)"
   ]
  },
  {
   "cell_type": "code",
   "execution_count": 17,
   "id": "fb1f515f",
   "metadata": {},
   "outputs": [
    {
     "name": "stdout",
     "output_type": "stream",
     "text": [
      "The outlier in the boxplot: 10    91.36\n",
      "dtype: float64\n"
     ]
    }
   ],
   "source": [
    "Outliers = measure_x[(measure_x <= lower_bound) | (measure_x >= upper_bound)]\n",
    "print('The outlier in the boxplot:',Outliers)"
   ]
  },
  {
   "cell_type": "code",
   "execution_count": 18,
   "id": "58e367f2",
   "metadata": {},
   "outputs": [
    {
     "name": "stdout",
     "output_type": "stream",
     "text": [
      "The outlier in the boxplot: 10    91.36\n",
      "dtype: float64\n"
     ]
    }
   ],
   "source": [
    "Outliers = measure_x[(measure_x >= upper_bound)]\n",
    "print('The outlier in the boxplot:',Outliers)"
   ]
  },
  {
   "cell_type": "code",
   "execution_count": 47,
   "id": "b4c6a8f6",
   "metadata": {},
   "outputs": [
    {
     "data": {
      "text/plain": [
       "287.1466123809524"
      ]
     },
     "execution_count": 47,
     "metadata": {},
     "output_type": "execute_result"
    }
   ],
   "source": [
    "measure_x.var()"
   ]
  },
  {
   "cell_type": "markdown",
   "id": "1008fbfc",
   "metadata": {},
   "source": [
    "# SET 2  "
   ]
  },
  {
   "cell_type": "markdown",
   "id": "cedc2ff0",
   "metadata": {},
   "source": [
    "### Question 1 "
   ]
  },
  {
   "cell_type": "code",
   "execution_count": null,
   "id": "65f86184",
   "metadata": {},
   "outputs": [],
   "source": [
    "\"\"\"the serving work will began after 10 min of drop off so 45+10 \n",
    "which will now take more than the usual time so new mew is 55 minutes \n",
    "and the porbbaility that it will take more than 1 hour to complete\"\"\"\n",
    "mew = 55\n",
    "std = 8\n",
    "q1 = 1-stats.norm.cdf(60, loc = mew, scale = std)\n",
    "print(\"\"\"The probability that the service manager cannot meet his \n",
    "      commitment is\"\"\",np.round(q1,5))"
   ]
  },
  {
   "cell_type": "markdown",
   "id": "cccde819",
   "metadata": {},
   "source": [
    "### Question 2 "
   ]
  },
  {
   "cell_type": "code",
   "execution_count": null,
   "id": "62ab95da",
   "metadata": {},
   "outputs": [],
   "source": [
    "mean = 38\n",
    "std1 = 6\n",
    "q2_lessthan_38 = stats.norm.cdf(38, loc = mean, scale = std1)\n",
    "q2_lessthan_38"
   ]
  },
  {
   "cell_type": "code",
   "execution_count": null,
   "id": "c40bb1da",
   "metadata": {},
   "outputs": [],
   "source": [
    "q2_less_than_44 = stats.norm.cdf(44, loc = mean,  scale = std1)\n",
    "q2_less_than_44"
   ]
  },
  {
   "cell_type": "code",
   "execution_count": null,
   "id": "b8906a8d",
   "metadata": {},
   "outputs": [],
   "source": [
    "q2_betweeen_38_and_44 = (q2_less_than_44 - q2_lessthan_38)\n",
    "print('The proabbaility of employee age betweeen 38 and 44 is',np.round(q2_betweeen_38_and_44*100,2),'%') "
   ]
  },
  {
   "cell_type": "code",
   "execution_count": null,
   "id": "1001d11c",
   "metadata": {},
   "outputs": [],
   "source": [
    "q2_morethan_44 = 1-stats.norm.cdf(44, loc = mean, scale = std1)\n",
    "print('The proabbaility of employee age more than 44 is',np.round(q2_morethan_44*100,2),'%')"
   ]
  },
  {
   "cell_type": "code",
   "execution_count": null,
   "id": "68cb8f5e",
   "metadata": {},
   "outputs": [],
   "source": [
    "true_or_false = (q2_morethan_44 > q2_betweeen_38_and_44)\n",
    "print('Answer:',true_or_false)"
   ]
  },
  {
   "cell_type": "code",
   "execution_count": null,
   "id": "cfe8432f",
   "metadata": {},
   "outputs": [],
   "source": [
    "q2b = stats.norm.cdf(30, loc = mean, scale = std1)*100\n",
    "print(\"\"\"A training program for employees under the age \n",
    "      of 30 at the center would be expected to attract about\"\"\"\n",
    "      ,np.round((q2b*400)/100,0),'employees')"
   ]
  },
  {
   "cell_type": "code",
   "execution_count": null,
   "id": "d1066d58",
   "metadata": {},
   "outputs": [],
   "source": [
    "z_score = (30 - 38)/6\n",
    "z_score"
   ]
  },
  {
   "cell_type": "markdown",
   "id": "7fbaf3d4",
   "metadata": {},
   "source": [
    "### Question 4"
   ]
  },
  {
   "cell_type": "markdown",
   "id": "f847acf5",
   "metadata": {},
   "source": [
    "<b>Let X ~ N(100, 202). Find two values, a and b, symmetric \n",
    "        about the mean, such that the probability of the random variable \n",
    "        taking a value between them is 0.99.</b>\n",
    "+ A.90.5, 105.9 \n",
    "+ B.80.2, 119.8\n",
    "+ C.22, 78 \n",
    "+ D.48.5, 151.5\n",
    "+ E.90.1, 109.9"
   ]
  },
  {
   "cell_type": "code",
   "execution_count": 6,
   "id": "893e49b6",
   "metadata": {},
   "outputs": [
    {
     "data": {
      "text/plain": [
       "' From the above details,we have to exclude .005% area from each\\nleft and right tails. Hence, we want to find the .005th and the \\n.995th percentiles Z score values'"
      ]
     },
     "execution_count": 6,
     "metadata": {},
     "output_type": "execute_result"
    }
   ],
   "source": [
    "# Given\n",
    "mew = 100\n",
    "std = 20\n",
    "# p(a<x<b)\n",
    "#To Find = \n",
    "\"\"\" two values, a and b, symmetric about the mean, such that the \n",
    "probability of the random variable taking a value between them is 0.99\"\"\" \n",
    "# Solution\n",
    "\"\"\" From the above details,we have to exclude .005% area from each\n",
    "left and right tails. Hence, we want to find the .005th and the \n",
    ".995th percentiles Z score values\"\"\""
   ]
  },
  {
   "cell_type": "code",
   "execution_count": 3,
   "id": "73ca1cd9",
   "metadata": {},
   "outputs": [
    {
     "data": {
      "text/plain": [
       "-2.5758"
      ]
     },
     "execution_count": 3,
     "metadata": {},
     "output_type": "execute_result"
    }
   ],
   "source": [
    "# Z value for .005 percentiles \n",
    "z_005_ = np.round(stats.norm.ppf(0.005),4)\n",
    "z_005_"
   ]
  },
  {
   "cell_type": "code",
   "execution_count": 4,
   "id": "8ca1899f",
   "metadata": {},
   "outputs": [
    {
     "data": {
      "text/plain": [
       "2.5758"
      ]
     },
     "execution_count": 4,
     "metadata": {},
     "output_type": "execute_result"
    }
   ],
   "source": [
    "# Z value for .99 percentiles \n",
    "z_99_ = np.round(stats.norm.ppf(0.995),4)\n",
    "z_99_"
   ]
  },
  {
   "cell_type": "code",
   "execution_count": 17,
   "id": "cd157afe",
   "metadata": {},
   "outputs": [
    {
     "name": "stdout",
     "output_type": "stream",
     "text": [
      "The two values of a and b, symmetric about the mean, \n",
      "      are such that the probability of the random variable \n",
      "      taking a value between them is 0.99: 48.5 151.5\n"
     ]
    }
   ],
   "source": [
    "#z = (x_bar - mew) / std\n",
    "#x_bar = (z*std) + mew\n",
    "a = np.round((z_005_*std) + mew,1)\n",
    "b = np.round((z_99_*std) + mew,1)\n",
    "print(\"\"\"The two values of a and b, symmetric about the mean, \n",
    "      are such that the probability of the random variable \n",
    "      taking a value between them is 0.99:\"\"\",a,b)"
   ]
  },
  {
   "cell_type": "markdown",
   "id": "af8434ac",
   "metadata": {},
   "source": [
    "### Question 5 "
   ]
  },
  {
   "cell_type": "markdown",
   "id": "82e19383",
   "metadata": {},
   "source": [
    "5.Consider a company that has two different divisions. The annual profits from the two divisions are independent and have distributions Profit1 ~ N(5, 32) and Profit2 ~ N(7, 42) respectively. Both the profits are in USD Million. Answer the following questions about the total profit of the company in Rupees. Assume that 1USD = Rs. 45"
   ]
  },
  {
   "cell_type": "code",
   "execution_count": 23,
   "id": "c8d57f0f",
   "metadata": {},
   "outputs": [
    {
     "name": "stdout",
     "output_type": "stream",
     "text": [
      "The Mean Profit of both division: 12 Million$\n",
      "The Mean Profit of both division: 54.0 Crore Rupees\n"
     ]
    }
   ],
   "source": [
    "# Combine Mean Profit of both division for Company= mean1 + mean2\n",
    "mean1 = 5\n",
    "mean2 = 7\n",
    "Mean = (mean1+mean2) # 1 USD = 45 rupees\n",
    "print('The Mean Profit of both division:',Mean, 'Million$')\n",
    "print('The Mean Profit of both division:',(Mean*45)/10, 'Crore Rupees')"
   ]
  },
  {
   "cell_type": "code",
   "execution_count": 24,
   "id": "37917faa",
   "metadata": {},
   "outputs": [
    {
     "name": "stdout",
     "output_type": "stream",
     "text": [
      "The Standard Deviation of both division: 5.0 Million$\n",
      "The Standard Deviation of both division: 22.5 Crore Rupees\n"
     ]
    }
   ],
   "source": [
    "# Combine standard Deviation = (Std1^2 + Std2^2)^1/2\n",
    "std1 = 3**2\n",
    "std2 = 4**2\n",
    "Std = np.sqrt(std1 + std2)\n",
    "print('The Standard Deviation of both division:', Std, 'Million$')\n",
    "print('The Standard Deviation of both division:', (Std*45)/10, 'Crore Rupees')"
   ]
  },
  {
   "cell_type": "code",
   "execution_count": 41,
   "id": "f04e957e",
   "metadata": {},
   "outputs": [
    {
     "data": {
      "text/plain": [
       "-1.96"
      ]
     },
     "execution_count": 41,
     "metadata": {},
     "output_type": "execute_result"
    }
   ],
   "source": [
    "np.round(stats.norm.ppf(0.025),2)"
   ]
  },
  {
   "cell_type": "markdown",
   "id": "e12d7dee",
   "metadata": {},
   "source": [
    " A. Specify a Rupee range (centered on the mean) such that it contains 95% probability for the annual profit of the company."
   ]
  },
  {
   "cell_type": "code",
   "execution_count": 46,
   "id": "daa481b6",
   "metadata": {},
   "outputs": [
    {
     "name": "stdout",
     "output_type": "stream",
     "text": [
      "Rupee Ranges from 2.2 to 21.8 Million$ in Annual profit of the Company 95% of the time\n",
      "Rupee Ranges from 9.900000000000002 to 98.1 Crore Rupees in Annual profit of the Company 95% of the time\n"
     ]
    }
   ],
   "source": [
    "r1, r2 = np.round(stats.norm.interval(0.95, Mean, Std),2)\n",
    "print('Rupee Ranges from',r1,'to',r2,'Million$ in Annual profit of the Company 95% of the time')\n",
    "print('Rupee Ranges from',np.divide(np.multiply(r1,45),10),'to',np.divide(np.multiply(r2,45),10),'Crore Rupees in Annual profit of the Company 95% of the time')"
   ]
  },
  {
   "cell_type": "markdown",
   "id": "a036d585",
   "metadata": {},
   "source": [
    "B.\tSpecify the 5th percentile of profit (in Rupees) for the company"
   ]
  },
  {
   "cell_type": "code",
   "execution_count": 52,
   "id": "d9190ba3",
   "metadata": {},
   "outputs": [
    {
     "name": "stdout",
     "output_type": "stream",
     "text": [
      "The 5th percentile of Profit for the company is 3.78 Million$\n",
      "The 5th percentile of Profit for the company is 17.0 Crore Rupees\n"
     ]
    }
   ],
   "source": [
    "# Z value  = X_bar - Mew / Std pop \n",
    "# for percentile, X_percentile = (Zvalue * Std pop) + Mew\n",
    "Z_05_ = stats.norm.ppf(0.05)\n",
    "Fifth_percentile = (Z_05_ * Std) + Mean\n",
    "print('The 5th percentile of Profit for the company is',np.round(Fifth_percentile,2),'Million$')\n",
    "print('The 5th percentile of Profit for the company is',np.round((Fifth_percentile*45)/10,),'Crore Rupees')"
   ]
  },
  {
   "cell_type": "markdown",
   "id": "a5804f36",
   "metadata": {},
   "source": [
    "C.\tWhich of the two divisions has a larger probability of making a loss in a given year?"
   ]
  },
  {
   "cell_type": "code",
   "execution_count": 63,
   "id": "dededee8",
   "metadata": {},
   "outputs": [
    {
     "name": "stdout",
     "output_type": "stream",
     "text": [
      "The Probability of Division #1 making a loss is 4.78 %\n"
     ]
    }
   ],
   "source": [
    "# The probability of Division #1 making a loss\n",
    "print('The Probability of Division #1 making a loss is',np.round((stats.norm.cdf(0,5,3))*100,2),'%')"
   ]
  },
  {
   "cell_type": "code",
   "execution_count": 64,
   "id": "2645eb6f",
   "metadata": {},
   "outputs": [
    {
     "name": "stdout",
     "output_type": "stream",
     "text": [
      "The Probability of Division #2 making a loss is 4.01 %\n"
     ]
    }
   ],
   "source": [
    "# The probability of Division #2 making a loss\n",
    "print('The Probability of Division #2 making a loss is',np.round((stats.norm.cdf(0,7,4))*100,2),'%')"
   ]
  },
  {
   "cell_type": "code",
   "execution_count": 70,
   "id": "f0d614a5",
   "metadata": {},
   "outputs": [
    {
     "name": "stdout",
     "output_type": "stream",
     "text": [
      "The Division 1 has a larger Probability of making a loss\n"
     ]
    }
   ],
   "source": [
    "Division_1 = (stats.norm.cdf(0,5,3))*100\n",
    "Division_2 = (stats.norm.cdf(0,7,4))*100\n",
    "\n",
    "if Division_1>Division_2:\n",
    "    print('The Division 1 has a larger Probability of making a loss')\n",
    "else:\n",
    "          print('The Division 2 has a larger Porbability of making a loss')"
   ]
  },
  {
   "cell_type": "markdown",
   "id": "f7d80a61",
   "metadata": {},
   "source": [
    "# Set 4"
   ]
  },
  {
   "cell_type": "markdown",
   "id": "264adaff",
   "metadata": {},
   "source": [
    "### Question 3"
   ]
  },
  {
   "cell_type": "markdown",
   "id": "dc70b9f9",
   "metadata": {},
   "source": [
    "3.\tAuditors at a small community bank randomly sample 100 withdrawal transactions made during the week at an ATM machine located near the bank’s main branch. Over the past 2 years, the average withdrawal amount has been 50 USD with a standard deviation of 40 USD. Since audit investigations are typically expensive, the auditors decide to not initiate further investigations if the mean transaction amount of the sample is between 45 USD and 55 USD. What is the probability that in any given week, there will be an investigation?"
   ]
  },
  {
   "cell_type": "code",
   "execution_count": 12,
   "id": "0175c3c2",
   "metadata": {},
   "outputs": [],
   "source": [
    "mean = 50\n",
    "std = 40\n",
    "n = 100\n",
    "d_f = 100 - 1 #degree of freedom\n",
    "#the probability that there will be an investigation,\n",
    "#if the mean transactions amount increases more than 55 USD or less than 45 USD\n",
    "# no investigation if the mean transactions amount remains between 45 to 55 USD"
   ]
  },
  {
   "cell_type": "code",
   "execution_count": 8,
   "id": "9071890a",
   "metadata": {},
   "outputs": [
    {
     "data": {
      "text/plain": [
       "-1.25"
      ]
     },
     "execution_count": 8,
     "metadata": {},
     "output_type": "execute_result"
    }
   ],
   "source": [
    "# we will go for t-distribution as population standard deviation is unknown\n",
    "t_forty_five = (45-50)/(40/np.sqrt(100))\n",
    "t_forty_five"
   ]
  },
  {
   "cell_type": "code",
   "execution_count": 9,
   "id": "a84af3ae",
   "metadata": {},
   "outputs": [
    {
     "data": {
      "text/plain": [
       "1.25"
      ]
     },
     "execution_count": 9,
     "metadata": {},
     "output_type": "execute_result"
    }
   ],
   "source": [
    "t_fifty_five = (55-50)/(40/np.sqrt(100))\n",
    "t_fifty_five"
   ]
  },
  {
   "cell_type": "code",
   "execution_count": 14,
   "id": "ca1dec14",
   "metadata": {},
   "outputs": [
    {
     "data": {
      "text/plain": [
       "0.10712316878419327"
      ]
     },
     "execution_count": 14,
     "metadata": {},
     "output_type": "execute_result"
    }
   ],
   "source": [
    "forty_five = stats.t.cdf(t_forty_five, df = d_f)\n",
    "forty_five"
   ]
  },
  {
   "cell_type": "code",
   "execution_count": 15,
   "id": "04bfa50a",
   "metadata": {},
   "outputs": [
    {
     "data": {
      "text/plain": [
       "0.8928768312158067"
      ]
     },
     "execution_count": 15,
     "metadata": {},
     "output_type": "execute_result"
    }
   ],
   "source": [
    "fifty_five = stats.t.cdf(t_fifty_five, d_f)\n",
    "fifty_five"
   ]
  },
  {
   "cell_type": "code",
   "execution_count": 16,
   "id": "728be6fc",
   "metadata": {},
   "outputs": [
    {
     "data": {
      "text/plain": [
       "0.7857536624316135"
      ]
     },
     "execution_count": 16,
     "metadata": {},
     "output_type": "execute_result"
    }
   ],
   "source": [
    "prob = fifty_five - forty_five\n",
    "prob"
   ]
  },
  {
   "cell_type": "code",
   "execution_count": 26,
   "id": "ff2b26e2",
   "metadata": {},
   "outputs": [
    {
     "data": {
      "text/plain": [
       "array([45., 55.])"
      ]
     },
     "execution_count": 26,
     "metadata": {},
     "output_type": "execute_result"
    }
   ],
   "source": [
    "np.round(stats.t.interval(alpha = prob, df = d_f, loc = mean, scale = std/np.sqrt(n)),)"
   ]
  },
  {
   "cell_type": "code",
   "execution_count": 47,
   "id": "b7eb92e1",
   "metadata": {},
   "outputs": [
    {
     "name": "stdout",
     "output_type": "stream",
     "text": [
      "The probability that in any given week, there will be an investigation is 21.4 %\n"
     ]
    }
   ],
   "source": [
    "print('The probability that in any given week, there will be an investigation is',np.round((1-prob)*100,1),'%')"
   ]
  },
  {
   "cell_type": "markdown",
   "id": "285ed8b2",
   "metadata": {},
   "source": [
    "### Question 4 "
   ]
  },
  {
   "cell_type": "markdown",
   "id": "065c210d",
   "metadata": {},
   "source": [
    "4.\tThe auditors from the above example would like to maintain the probability of investigation to 5%. Which of the following represents the minimum number transactions that they should sample if they do not want to change the thresholds of 45 and 55? Assume that the sample statistics remain unchanged."
   ]
  },
  {
   "cell_type": "code",
   "execution_count": 5,
   "id": "42aae770",
   "metadata": {},
   "outputs": [],
   "source": [
    "x_bar = 45\n",
    "s_std = 40\n",
    "mew = 50"
   ]
  },
  {
   "cell_type": "code",
   "execution_count": 13,
   "id": "9062d49f",
   "metadata": {},
   "outputs": [
    {
     "data": {
      "text/plain": [
       "-1.97"
      ]
     },
     "execution_count": 13,
     "metadata": {},
     "output_type": "execute_result"
    }
   ],
   "source": [
    "t = np.round(stats.t.ppf(0.025, df = 249),2)\n",
    "t"
   ]
  },
  {
   "cell_type": "code",
   "execution_count": null,
   "id": "ca2876f9",
   "metadata": {},
   "outputs": [],
   "source": [
    "# t_value = (x_bar - mew)/(sample_std/n**0.5)\n",
    "# t = 45-50 or z = 55-50 z = +/- 5"
   ]
  },
  {
   "cell_type": "code",
   "execution_count": 19,
   "id": "6d988323",
   "metadata": {},
   "outputs": [],
   "source": [
    "# t = 5/(40/n**0.5)\n",
    "# n = (sample_standard_deviation*tscore)/(sample_mean=population_mean)\n",
    "n = ((s_std*abs(t)) / (5))**2"
   ]
  },
  {
   "cell_type": "code",
   "execution_count": 20,
   "id": "290dd14b",
   "metadata": {},
   "outputs": [
    {
     "name": "stdout",
     "output_type": "stream",
     "text": [
      "The Auditors would like to maintain the probability of investigation to 5%, they should sample 248.0 transactions if they do not want to change the thresholds of 45 to 55\n"
     ]
    }
   ],
   "source": [
    "print('The Auditors would like to maintain the probability of investigation to 5%, they should sample',np.round(n,),'transactions if they do not want to change the thresholds of 45 to 55')"
   ]
  },
  {
   "cell_type": "code",
   "execution_count": 17,
   "id": "c53eed32",
   "metadata": {},
   "outputs": [
    {
     "data": {
      "text/plain": [
       "248.3776"
      ]
     },
     "execution_count": 17,
     "metadata": {},
     "output_type": "execute_result"
    }
   ],
   "source": [
    "n"
   ]
  },
  {
   "cell_type": "code",
   "execution_count": null,
   "id": "daa21f3e",
   "metadata": {},
   "outputs": [],
   "source": []
  },
  {
   "cell_type": "code",
   "execution_count": null,
   "id": "fe816a77",
   "metadata": {},
   "outputs": [],
   "source": []
  }
 ],
 "metadata": {
  "kernelspec": {
   "display_name": "Python 3 (ipykernel)",
   "language": "python",
   "name": "python3"
  },
  "language_info": {
   "codemirror_mode": {
    "name": "ipython",
    "version": 3
   },
   "file_extension": ".py",
   "mimetype": "text/x-python",
   "name": "python",
   "nbconvert_exporter": "python",
   "pygments_lexer": "ipython3",
   "version": "3.9.7"
  }
 },
 "nbformat": 4,
 "nbformat_minor": 5
}
